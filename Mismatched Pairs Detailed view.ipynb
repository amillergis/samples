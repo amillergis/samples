{
 "cells": [
  {
   "cell_type": "code",
   "execution_count": 1,
   "metadata": {
    "collapsed": true
   },
   "outputs": [],
   "source": [
    "import pandas as pd"
   ]
  },
  {
   "cell_type": "code",
   "execution_count": 2,
   "metadata": {
    "collapsed": false
   },
   "outputs": [],
   "source": [
    "stop_times = pd.read_csv(r'stop_times.txt')\n",
    "trips = pd.read_csv(r'trips.txt')"
   ]
  },
  {
   "cell_type": "code",
   "execution_count": 3,
   "metadata": {
    "collapsed": false
   },
   "outputs": [],
   "source": [
    "stop_times['stop_idnx'] = stop_times.groupby(['trip_id'])['stop_id'].shift(-1)"
   ]
  },
  {
   "cell_type": "code",
   "execution_count": 4,
   "metadata": {
    "collapsed": false
   },
   "outputs": [],
   "source": [
    "bad_trips = pd.DataFrame()"
   ]
  },
  {
   "cell_type": "code",
   "execution_count": 5,
   "metadata": {
    "collapsed": false
   },
   "outputs": [],
   "source": [
    "# Bad Stops\n",
    "bad_stops =  []\n",
    "for stop in bad_stops:\n",
    "    bad_trips = pd.concat([bad_trips,stop_times[(stop_times['stop_id']==stop)]])\n",
    "bad_trips['error_type'] = \"BAD STOP\""
   ]
  },
  {
   "cell_type": "code",
   "execution_count": 6,
   "metadata": {
    "collapsed": false
   },
   "outputs": [],
   "source": [
    "#Bad Pairs\n",
    "stop_times['error_type'] = 'BAD PAIR'\n",
    "bad_pairs = [ (140043,140044), (140044,102929)]\n",
    "for pair in bad_pairs:\n",
    "    bad_trips = pd.concat([bad_trips,stop_times[(stop_times['stop_id']==pair[0]) & (stop_times['stop_idnx']==pair[1])]])\n",
    "issues = bad_trips.merge(trips, on='trip_id')"
   ]
  },
  {
   "cell_type": "code",
   "execution_count": 8,
   "metadata": {
    "collapsed": false
   },
   "outputs": [
    {
     "data": {
      "text/html": [
       "<div>\n",
       "<table border=\"1\" class=\"dataframe\">\n",
       "  <thead>\n",
       "    <tr style=\"text-align: right;\">\n",
       "      <th></th>\n",
       "      <th>arrival_time</th>\n",
       "      <th>departure_time</th>\n",
       "      <th>drop_off_type</th>\n",
       "      <th>error_type</th>\n",
       "      <th>pickup_type</th>\n",
       "      <th>stop_id</th>\n",
       "      <th>stop_idnx</th>\n",
       "      <th>stop_sequence</th>\n",
       "      <th>timepoint</th>\n",
       "      <th>trip_id</th>\n",
       "      <th>...</th>\n",
       "      <th>trip_sequence</th>\n",
       "      <th>trip_type</th>\n",
       "      <th>trip_headsign</th>\n",
       "      <th>direction_id</th>\n",
       "      <th>pattern_id</th>\n",
       "      <th>pattern_count</th>\n",
       "      <th>direction_code</th>\n",
       "      <th>pattern_code</th>\n",
       "      <th>pattern_rank</th>\n",
       "      <th>hierarchy</th>\n",
       "    </tr>\n",
       "    <tr>\n",
       "      <th>shape_id</th>\n",
       "      <th></th>\n",
       "      <th></th>\n",
       "      <th></th>\n",
       "      <th></th>\n",
       "      <th></th>\n",
       "      <th></th>\n",
       "      <th></th>\n",
       "      <th></th>\n",
       "      <th></th>\n",
       "      <th></th>\n",
       "      <th></th>\n",
       "      <th></th>\n",
       "      <th></th>\n",
       "      <th></th>\n",
       "      <th></th>\n",
       "      <th></th>\n",
       "      <th></th>\n",
       "      <th></th>\n",
       "      <th></th>\n",
       "      <th></th>\n",
       "      <th></th>\n",
       "    </tr>\n",
       "  </thead>\n",
       "  <tbody>\n",
       "    <tr>\n",
       "      <th>7-8-151</th>\n",
       "      <td>24:48:00</td>\n",
       "      <td>24:48:00</td>\n",
       "      <td>0.0</td>\n",
       "      <td>BAD PAIR</td>\n",
       "      <td>0.0</td>\n",
       "      <td>140044.0</td>\n",
       "      <td>140044.0</td>\n",
       "      <td>9.0</td>\n",
       "      <td>0.0</td>\n",
       "      <td>ab2309386</td>\n",
       "      <td>...</td>\n",
       "      <td>20</td>\n",
       "      <td>0</td>\n",
       "      <td>University to UBCO</td>\n",
       "      <td>0</td>\n",
       "      <td>201</td>\n",
       "      <td>368</td>\n",
       "      <td>1</td>\n",
       "      <td>201</td>\n",
       "      <td>38</td>\n",
       "      <td>1</td>\n",
       "    </tr>\n",
       "    <tr>\n",
       "      <th>7-8-157</th>\n",
       "      <td>11:35:00</td>\n",
       "      <td>11:35:00</td>\n",
       "      <td>0.0</td>\n",
       "      <td>BAD PAIR</td>\n",
       "      <td>0.0</td>\n",
       "      <td>140044.0</td>\n",
       "      <td>140044.0</td>\n",
       "      <td>9.0</td>\n",
       "      <td>0.0</td>\n",
       "      <td>ab2309429</td>\n",
       "      <td>...</td>\n",
       "      <td>4</td>\n",
       "      <td>0</td>\n",
       "      <td>University to Orchard Park</td>\n",
       "      <td>0</td>\n",
       "      <td>241</td>\n",
       "      <td>10</td>\n",
       "      <td>1</td>\n",
       "      <td>241</td>\n",
       "      <td>80</td>\n",
       "      <td>3</td>\n",
       "    </tr>\n",
       "  </tbody>\n",
       "</table>\n",
       "<p>2 rows × 23 columns</p>\n",
       "</div>"
      ],
      "text/plain": [
       "         arrival_time departure_time  drop_off_type error_type  pickup_type  \\\n",
       "shape_id                                                                      \n",
       "7-8-151      24:48:00       24:48:00            0.0   BAD PAIR          0.0   \n",
       "7-8-157      11:35:00       11:35:00            0.0   BAD PAIR          0.0   \n",
       "\n",
       "           stop_id  stop_idnx  stop_sequence  timepoint    trip_id    ...      \\\n",
       "shape_id                                                              ...       \n",
       "7-8-151   140044.0   140044.0            9.0        0.0  ab2309386    ...       \n",
       "7-8-157   140044.0   140044.0            9.0        0.0  ab2309429    ...       \n",
       "\n",
       "         trip_sequence trip_type               trip_headsign  direction_id  \\\n",
       "shape_id                                                                     \n",
       "7-8-151             20         0          University to UBCO             0   \n",
       "7-8-157              4         0  University to Orchard Park             0   \n",
       "\n",
       "          pattern_id pattern_count  direction_code  pattern_code  \\\n",
       "shape_id                                                           \n",
       "7-8-151          201           368               1           201   \n",
       "7-8-157          241            10               1           241   \n",
       "\n",
       "          pattern_rank  hierarchy  \n",
       "shape_id                           \n",
       "7-8-151             38          1  \n",
       "7-8-157             80          3  \n",
       "\n",
       "[2 rows x 23 columns]"
      ]
     },
     "execution_count": 8,
     "metadata": {},
     "output_type": "execute_result"
    }
   ],
   "source": [
    "issues.groupby(by='shape_id').max().sort_values(by='stop_id')\n",
    "#issues.sort_values(by=['shape_id','stop_id'])[['shape_id','stop_id','stop_idnx']]"
   ]
  },
  {
   "cell_type": "code",
   "execution_count": 8,
   "metadata": {
    "collapsed": false
   },
   "outputs": [],
   "source": [
    "issues.to_excel(r'Stop_Pair_QA.xlsx')"
   ]
  },
  {
   "cell_type": "code",
   "execution_count": null,
   "metadata": {
    "collapsed": true
   },
   "outputs": [],
   "source": []
  }
 ],
 "metadata": {
  "kernelspec": {
   "display_name": "Python 3",
   "language": "python",
   "name": "python3"
  },
  "language_info": {
   "codemirror_mode": {
    "name": "ipython",
    "version": 3
   },
   "file_extension": ".py",
   "mimetype": "text/x-python",
   "name": "python",
   "nbconvert_exporter": "python",
   "pygments_lexer": "ipython3",
   "version": "3.5.1"
  }
 },
 "nbformat": 4,
 "nbformat_minor": 0
}
