{
 "cells": [
  {
   "cell_type": "code",
   "execution_count": 1,
   "metadata": {
    "collapsed": true
   },
   "outputs": [],
   "source": [
    "%load_ext autotime"
   ]
  },
  {
   "cell_type": "code",
   "execution_count": 2,
   "metadata": {
    "collapsed": false
   },
   "outputs": [
    {
     "name": "stdout",
     "output_type": "stream",
     "text": [
      "time: 1.03 s\n"
     ]
    }
   ],
   "source": [
    "import fiona\n",
    "from shapely.geometry import shape\n",
    "from sqlalchemy import create_engine"
   ]
  },
  {
   "cell_type": "markdown",
   "metadata": {},
   "source": [
    "# Input Options"
   ]
  },
  {
   "cell_type": "code",
   "execution_count": 3,
   "metadata": {
    "collapsed": false
   },
   "outputs": [
    {
     "name": "stdout",
     "output_type": "stream",
     "text": [
      "time: 4 ms\n"
     ]
    }
   ],
   "source": [
    "# TABLE options are:\n",
    "## APPEND -- Add new records to existing table\n",
    "## CREATE -- Create a new table if it does not already exist\n",
    "## REPLACE -- Drop table if it exists and create a new table\n",
    "## TRUNCATE -- Keep table if it exists and truncate existing records\n",
    "\n",
    "##########\n",
    "## TODO add \"COMPARE -- Compare records to existing table.  Add new records with start dates and close updated reords with end dates\n",
    "##########\n",
    "\n",
    "TABLE = \"REPLACE\""
   ]
  },
  {
   "cell_type": "markdown",
   "metadata": {},
   "source": [
    "# Load Input Data(shapefile)"
   ]
  },
  {
   "cell_type": "code",
   "execution_count": 4,
   "metadata": {
    "collapsed": false
   },
   "outputs": [
    {
     "name": "stdout",
     "output_type": "stream",
     "text": [
      "time: 6.49 s\n"
     ]
    }
   ],
   "source": [
    "# Container to hold data to pass to Oracle Bulk Insert\n",
    "table_name = ''\n",
    "fiona_rows = list()\n",
    "schema = list()\n",
    "\n",
    "# Load Source Data\n",
    "with fiona.open(r'BusStops.shp','r') as fiona_layer:\n",
    "    # Get Table Name\n",
    "    table_name = fiona_layer.name\n",
    "    \n",
    "    # Infer Schema and convert to Oracle datatypes\n",
    "    for key, value in fiona_layer.schema['properties'].items():\n",
    "        fiona_type = value.split(':')\n",
    "        if fiona_type[0] == 'int':\n",
    "            value = 'NUMBER({0},0)'.format(fiona_type[1])\n",
    "        elif fiona_type[0] == 'float':\n",
    "            value = 'NUMBER({0})'.format(fiona_type[1].replace('.',','))\n",
    "        elif fiona_type[0] =='str':\n",
    "            value = 'VARCHAR2({0})'.format(fiona_type[1])\n",
    "        elif fiona_type[0] =='date':\n",
    "            value = 'DATE'\n",
    "        \n",
    "        schema.append((key,value))\n",
    "    \n",
    "    # Store Records and convert geometry to WKT\n",
    "    for feature in fiona_layer:\n",
    "        properties = feature['properties']\n",
    "        properties['GEOMETRY'] = shape(feature['geometry']).wkt\n",
    "        fiona_rows.append(properties)"
   ]
  },
  {
   "cell_type": "markdown",
   "metadata": {},
   "source": [
    "# Create Oracle Spatial Table"
   ]
  },
  {
   "cell_type": "code",
   "execution_count": 9,
   "metadata": {
    "collapsed": false
   },
   "outputs": [
    {
     "name": "stdout",
     "output_type": "stream",
     "text": [
      "time: 1.36 s\n"
     ]
    }
   ],
   "source": [
    "####################################################\n",
    "##TODO Add Options for Drop and Replace or Append ##\n",
    "####################################################\n",
    "\n",
    "#Create Oracle connection and cursor\n",
    "address = ''\n",
    "engine = create_engine(address)\n",
    "\n",
    "#Open Connection\n",
    "connection = engine.raw_connection()\n",
    "cursor = connection.cursor()\n",
    "\n",
    "########################\n",
    "if TABLE == 'REPLACE':\n",
    "    #Drop Index if it exists\n",
    "    cursor.execute(\"\"\"\n",
    "        declare\n",
    "           c int;\n",
    "        begin\n",
    "            select count(*) into c from user_sdo_index_info where index_name = upper('{0}_idx');\n",
    "            if c = 1 then \n",
    "                execute immediate 'DROP INDEX {0}_idx';\n",
    "            end if;\n",
    "        end;\n",
    "    \"\"\".format(table_name.lower()))\n",
    "    ##############################################\n",
    "    # Remove the table from USER_SDO_GEOM_METADATA if it exists\n",
    "    cursor.execute(\"\"\"\n",
    "        declare\n",
    "           tn VARCHAR2(200) :='{0}';\n",
    "           c int;\n",
    "        begin\n",
    "            select count(*) into c from user_sdo_geom_metadata where table_name = upper('{0}');\n",
    "            if c = 1 then\n",
    "                execute immediate 'DELETE FROM user_sdo_geom_metadata WHERE table_name = upper(:tname)' USING tn;\n",
    "            end if;\n",
    "        end;\n",
    "    \"\"\".format(table_name.lower()))\n",
    "    #################################\n",
    "    # Drop table if it already exists\n",
    "    cursor.execute(\"\"\"\n",
    "        declare\n",
    "           c int;\n",
    "        begin\n",
    "            select count(*) into c from user_tables where table_name = upper('{0}');\n",
    "            if c = 1 then\n",
    "                execute immediate 'drop table {0}';\n",
    "            end if;\n",
    "        end;\n",
    "    \"\"\".format(table_name.lower()))\n",
    "\n",
    "if TABLE in ('REPLACE','CREATE'):\n",
    "    ##############\n",
    "    # Create Table\n",
    "    command = \"\"\"CREATE TABLE {0} (\"\"\".format(table_name.lower())\n",
    "    for field in schema:\n",
    "        command += \"\"\"{0} {1},\\n\"\"\".format(field[0], field[1]) \n",
    "    command += \"\"\"GEOMETRY SDO_GEOMETRY)\"\"\"\n",
    "\n",
    "    cursor.execute(command)\n",
    "\n",
    "    ###################\n",
    "    # Set Geometry SRID\n",
    "    cursor.execute(\"UPDATE {0} t SET t.geometry.sdo_srid = 3005\".format(table_name.lower()))\n",
    "\n",
    "    ##########################################\n",
    "    # Register table in USER_SDO_GEOM_METADATA\n",
    "    cursor.execute(\"INSERT INTO user_sdo_geom_metadata (table_name,column_name,diminfo,srid) VALUES ('{0}','GEOMETRY', sdo_dim_array(sdo_dim_element('X',395388.99,1854357.76,0.005),sdo_dim_element('Y',369155.12,1714756.85,0.005)), 3005)\".format(table_name.upper()))\n",
    "\n",
    "    #####################\n",
    "    # Build spatial index\n",
    "    cursor.execute(\"CREATE INDEX {0}_idx ON {0}(geometry) INDEXTYPE IS MDSYS.SPATIAL_INDEX\".format(table_name).lower())\n",
    "    connection.commit()\n",
    "\n",
    "############################\n",
    "#close cursor and connection\n",
    "cursor.close()\n",
    "connection.close()"
   ]
  },
  {
   "cell_type": "markdown",
   "metadata": {},
   "source": [
    "# Insert Data"
   ]
  },
  {
   "cell_type": "code",
   "execution_count": 10,
   "metadata": {
    "collapsed": false
   },
   "outputs": [
    {
     "name": "stdout",
     "output_type": "stream",
     "text": [
      "time: 11.1 s\n"
     ]
    }
   ],
   "source": [
    "# Build SQL statement\n",
    "command = \"\"\"INSERT INTO {0} (\\n\"\"\".format(table_name.lower())\n",
    "for field in schema:\n",
    "    command += '{0},\\n'.format(field[0])\n",
    "command += 'GEOMETRY)\\n'\n",
    "command += 'VALUES (\\n'\n",
    "for field in schema:\n",
    "    if field[1] == 'DATE':\n",
    "        command += \"TO_DATE(:{0},'YYYY-MM-DD'),\\n\".format(field[0])\n",
    "    else:\n",
    "        command += ':{0},\\n'.format(field[0])\n",
    "command += 'SDO_GEOMETRY(:GEOMETRY,3005))'\n",
    "\n",
    "#Open Connection\n",
    "connection = engine.raw_connection()\n",
    "cursor = connection.cursor()\n",
    "\n",
    "# Bulk Load\n",
    "cursor.executemany(command, fiona_rows)\n",
    "connection.commit()\n",
    "\n",
    "#close cursor and connection\n",
    "cursor.close()\n",
    "connection.close()"
   ]
  },
  {
   "cell_type": "code",
   "execution_count": null,
   "metadata": {
    "collapsed": true
   },
   "outputs": [],
   "source": []
  }
 ],
 "metadata": {
  "kernelspec": {
   "display_name": "Python 3",
   "language": "python",
   "name": "python3"
  },
  "language_info": {
   "codemirror_mode": {
    "name": "ipython",
    "version": 3
   },
   "file_extension": ".py",
   "mimetype": "text/x-python",
   "name": "python",
   "nbconvert_exporter": "python",
   "pygments_lexer": "ipython3",
   "version": "3.5.1"
  }
 },
 "nbformat": 4,
 "nbformat_minor": 0
}
