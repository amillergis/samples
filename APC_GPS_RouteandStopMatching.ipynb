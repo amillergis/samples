{
 "cells": [
  {
   "cell_type": "code",
   "execution_count": 1,
   "metadata": {
    "collapsed": false
   },
   "outputs": [],
   "source": [
    "import pandas as pd\n",
    "from geopandas import GeoDataFrame, GeoSeries\n",
    "from rtree import index\n",
    "from shapely.geometry import Point\n",
    "from shapely.wkt import loads\n",
    "from sqlalchemy import create_engine\n",
    "from datetime import datetime\n",
    "\n",
    "import re\n",
    "\n",
    "class GeoDataFrame(GeoDataFrame):\n",
    "    def __init__(self, *args, **kwargs):\n",
    "        super().__init__(*args, **kwargs)\n",
    "        self.spatial_index = index.Index()\n",
    "    \n",
    "    def build_rtree(self):\n",
    "        for feature in self.iterfeatures(show_bbox=True):\n",
    "            self.spatial_index.insert(\n",
    "                    int(feature['id']),\n",
    "                    (feature['bbox'][0],feature['bbox'][1],feature['bbox'][2],feature['bbox'][3])\n",
    "            )\n",
    "    \n",
    "    def within_distance_of(self,match_features,dist=40, match_column='matched'):\n",
    "        for feature in self.iterfeatures(show_bbox=True):\n",
    "            matched = []\n",
    "            \n",
    "            for match in match_features.spatial_index.intersection(\n",
    "                    (feature['bbox'][0]-dist,feature['bbox'][1]-dist,feature['bbox'][2]+dist,feature['bbox'][3]+dist)):\n",
    "                if self.loc[int(feature['id']),'geometry'].distance(match_features.loc[int(match),'geometry']) < dist:\n",
    "                    matched.append(match)\n",
    "            \n",
    "            self.loc[int(feature['id']),match_column] = str(matched)\n",
    "            \n",
    "    \n",
    "# Set up Database connection for loading stop path geometries\n",
    "ENGINE = create_engine('')\n"
   ]
  },
  {
   "cell_type": "code",
   "execution_count": 2,
   "metadata": {
    "collapsed": false
   },
   "outputs": [],
   "source": [
    "# Load APC Data for service day\n",
    "\n",
    "def parse_date(date,time):\n",
    "    date_str = '{0} {1}'.format(date, time)\n",
    "    return datetime.strptime(date_str, '%m%d%Y %H%M%S')\n",
    "    \n",
    "May11 = pd.read_csv(\n",
    "    r'\\Kamloops\\data_appl\\apc\\20160510\\9875.dat',\n",
    "    header=None, \n",
    "    names=[\n",
    "        'Event',\n",
    "        'NA',\n",
    "        'APCUnitID',\n",
    "        'FrontDoor',\n",
    "        'RearDoor',\n",
    "        'NA2','NA3',\n",
    "        'FrontOn',\n",
    "        'RearOn1',\n",
    "        'RearOn2',\n",
    "        'NA4',\n",
    "        'FrontOff',\n",
    "        'RearOff1',\n",
    "        'RearOff2',\n",
    "        'NA5','NA6',\n",
    "        'RecordID',\n",
    "        'Latitude',\n",
    "        'Longitude',\n",
    "        'Date',\n",
    "        'Time'], \n",
    "    dtype=str,\n",
    "    parse_dates={'DateTime':[-2,-1]},\n",
    "    date_parser=parse_date)\n",
    "\n",
    "May12 = pd.read_csv(\n",
    "    r'\\Kamloops\\data_appl\\apc\\20160511\\9875.dat',\n",
    "    header=None, \n",
    "    names=[\n",
    "        'Event',\n",
    "        'NA',\n",
    "        'APCUnitID',\n",
    "        'FrontDoor',\n",
    "        'RearDoor',\n",
    "        'NA2','NA3',\n",
    "        'FrontOn',\n",
    "        'RearOn1',\n",
    "        'RearOn2',\n",
    "        'NA4',\n",
    "        'FrontOff',\n",
    "        'RearOff1',\n",
    "        'RearOff2',\n",
    "        'NA5','NA6',\n",
    "        'RecordID',\n",
    "        'Latitude',\n",
    "        'Longitude',\n",
    "        'Date',\n",
    "        'Time'], \n",
    "    dtype=str,\n",
    "    parse_dates={'DateTime':[-2,-1]},\n",
    "    date_parser=parse_date)\n",
    "\n",
    "df = pd.concat([May11,May12])\n",
    "mask = (df['DateTime'] > '2016-5-10 04:00:00') & (df['DateTime'] <= '2016-5-11 04:00:00')\n",
    "service_day = df.loc[mask].copy()\n",
    "\n",
    "service_day['geometry'] = service_day.apply(lambda x: Point(float(x.Longitude), float(x.Latitude)), axis=1)\n",
    "service_day = GeoDataFrame(service_day)\n",
    "service_day.crs = {'init': 'epsg:4326', 'no_defs': True}\n",
    "service_day.to_crs(epsg=3005, inplace=True)\n",
    "# Set the index of APC data to datetime so we can query for records within certain time periods \n",
    "service_day.build_rtree()"
   ]
  },
  {
   "cell_type": "code",
   "execution_count": 3,
   "metadata": {
    "collapsed": false
   },
   "outputs": [],
   "source": [
    "stops = pd.read_sql('''\n",
    "        SELECT\n",
    "            stopid,\n",
    "            SDO_UTIL.TO_WKTGEOMETRY(geom) as geometry\n",
    "        FROM \n",
    "            src_bct_stop\n",
    "        ''',\n",
    "        ENGINE)\n",
    "\n",
    "# Convert route geometry to python\n",
    "stops['geometry'] = stops.apply(lambda x: loads(x.geometry), axis=1)\n",
    "stops = GeoDataFrame(stops)\n",
    "stops.crs = {'init': 'epsg:3005', 'no_defs': True}\n",
    "stops.build_rtree()"
   ]
  },
  {
   "cell_type": "code",
   "execution_count": 4,
   "metadata": {
    "collapsed": true
   },
   "outputs": [],
   "source": [
    "routes = pd.read_sql('''\n",
    "        SELECT\n",
    "            route,\n",
    "            SDO_UTIL.TO_WKTGEOMETRY(geom) as geometry\n",
    "        FROM \n",
    "            src_bct_route\n",
    "        WHERE \n",
    "            system is not NULL AND\n",
    "            route is not NULL AND\n",
    "            pattern is not NULL\n",
    "        ''',\n",
    "        ENGINE)\n",
    "\n",
    "# Convert route geometry to python\n",
    "routes['geometry'] = routes.apply(lambda x: loads(x.geometry), axis=1)\n",
    "routes = GeoDataFrame(routes)\n",
    "routes.crs = {'init': 'epsg:3005', 'no_defs': True}\n",
    "routes['wgs'] = routes.to_crs(epsg=4326).geometry\n",
    "routes.build_rtree()"
   ]
  },
  {
   "cell_type": "code",
   "execution_count": null,
   "metadata": {
    "collapsed": false
   },
   "outputs": [],
   "source": [
    "service_day.within_distance_of(routes, dist=40, match_column='matched_routes')\n",
    "service_day.within_distance_of(stops, dist=40, match_column='matched_stops')"
   ]
  },
  {
   "cell_type": "code",
   "execution_count": null,
   "metadata": {
    "collapsed": false
   },
   "outputs": [],
   "source": [
    "routes['id'] = routes.index.values\n",
    "stops['id'] = stops.index.values\n",
    "\n",
    "def parse_matched_routes(row):\n",
    "    df = pd.DataFrame(re.sub('\\[|\\]', \"\", row.matched_routes).split(\",\"),columns=['id'])\n",
    "    df['id'] = pd.to_numeric(df['id'])\n",
    "    potential_routes = pd.merge(df,routes, how='left', left_on='id', right_on='id')\n",
    "    return str(set(potential_routes['route'].values.tolist()))\n",
    "\n",
    "def parse_matched_stops(row):\n",
    "    df = pd.DataFrame(re.sub('\\[|\\]', \"\", row.matched_stops).split(\",\"),columns=['id'])\n",
    "    df['id'] = pd.to_numeric(df['id'])\n",
    "    potential_stops = pd.merge(df,stops, how='left', left_on='id', right_on='id')\n",
    "    return str(set(potential_stops['stopid'].values.tolist()))\n",
    "\n",
    "service_day['matched_routes'] = service_day.apply(parse_matched_routes, axis=1)\n",
    "service_day['matched_stops'] = service_day.apply(parse_matched_stops, axis=1)\n",
    "service_day.to_csv('testing.csv')\n",
    "service_day\n"
   ]
  },
  {
   "cell_type": "code",
   "execution_count": null,
   "metadata": {
    "collapsed": true
   },
   "outputs": [],
   "source": []
  }
 ],
 "metadata": {
  "kernelspec": {
   "display_name": "Python 3",
   "language": "python",
   "name": "python3"
  },
  "language_info": {
   "codemirror_mode": {
    "name": "ipython",
    "version": 3
   },
   "file_extension": ".py",
   "mimetype": "text/x-python",
   "name": "python",
   "nbconvert_exporter": "python",
   "pygments_lexer": "ipython3",
   "version": "3.5.1"
  }
 },
 "nbformat": 4,
 "nbformat_minor": 0
}
